{
  "cells": [
    {
      "cell_type": "markdown",
      "id": "04ee9791",
      "metadata": {},
      "source": [
        "# NVIDIA Meeting Recorder Agent — Pro & Refactored\n",
        "\n",
        "This notebook walks you through building an **AI Meeting Recorder** that:\n",
        "- Reads meetings from **Google Calendar**\n",
        "- Spins up a recording bot, monitors it, and retrieves assets\n",
        "- Emails video, transcript & summary\n",
        "\n",
        "It leverages **xpander.ai** for orchestration and **NVIDIA NIM** for the LLM."
      ]
    },
    {
      "cell_type": "markdown",
      "id": "5c0ff027",
      "metadata": {},
      "source": [
        "## 1  Prerequisites\n",
        "1. **Python ≥ 3.10**\n",
        "2. **Node.js** (for the xpander CLI)\n",
        "3. A `.env` file containing:\n",
        "```env\n",
        "XPANDER_API_KEY=...\n",
        "NVIDIA_NIM_API_KEY=...\n",
        "XPANDER_AGENT_ID=...\n",
        "```"
      ]
    },
    {
      "cell_type": "markdown",
      "id": "e1e33e4f",
      "metadata": {},
      "source": [
        "## 2  Install & Login\n",
        "```bash\n",
        "# Install xpander CLI (skip if already installed)\n",
        "npm install -g xpander-cli\n",
        "xpander login    # copy your XPANDER_API_KEY to your .env file\n",
        "```"
      ]
    },
    {
      "cell_type": "markdown",
      "id": "2c0cf128",
      "metadata": {},
      "source": [
        "## 3  Set Up and Build the AI Agent\n",
        "\n",
        "Skip manual configuration: use the pre‑built xpander template below to create the agent with all necessary tools wired up.\n",
        "\n",
        "<div style=\"text-align: center;\">\n",
        "  <a href=\"https://app.xpander.ai/templates/48039a71-c99c-4691-8b66-a6faca3ccbe4\" target=\"_blank\">\n",
        "    <button style=\"background-color:#6741d9;color:white;padding:10px 20px;font-size:14px;border:none;border-radius:8px;cursor:pointer;\">\n",
        "      Build NVIDIA Meeting Recorder Agent with xpander Template\n",
        "    </button>\n",
        "  </a>\n",
        "</div>\n",
        "\n",
        "\n",
        "Copy the Agent ID from the URL (https://app.xpander.ai/agents/{agent-id}) and add it to your .env file as XPANDER_AGENT_ID={agent-id}."
      ]
    },
    {
      "cell_type": "code",
      "execution_count": null,
      "id": "5d2dde68",
      "metadata": {},
      "outputs": [],
      "source": [
        "import os, time, datetime as dt\n",
        "from dotenv import load_dotenv\n",
        "from xpander_sdk import XpanderClient, LLMProvider, Agent, Tokens, LLMTokens\n",
        "from openai import OpenAI\n",
        "import json\n",
        "\n",
        "load_dotenv()\n",
        "\n",
        "REQUIRED = [\"XPANDER_API_KEY\", \"NVIDIA_NIM_API_KEY\", \"XPANDER_AGENT_ID\"]\n",
        "missing = [k for k in REQUIRED if os.getenv(k) is None]\n",
        "if missing:\n",
        "    raise EnvironmentError(f\"Missing env vars: {', '.join(missing)}\")\n",
        "\n",
        "XPANDER_API_KEY    = os.getenv(\"XPANDER_API_KEY\")\n",
        "NVIDIA_NIM_API_KEY = os.getenv(\"NVIDIA_NIM_API_KEY\")\n",
        "AGENT_ID           = os.getenv(\"XPANDER_AGENT_ID\")\n",
        "\n",
        "print(\"✅ Environment ready — open your agent at\",\n",
        "      f\"https://app.xpander.ai/agents/{AGENT_ID}\")"
      ]
    },
    {
      "cell_type": "markdown",
      "id": "598e79bd",
      "metadata": {},
      "source": [
        "## 4  MeetingAgent Class"
      ]
    },
    {
      "cell_type": "code",
      "execution_count": null,
      "id": "3ec38ca0",
      "metadata": {},
      "outputs": [],
      "source": [
        "\n",
        "class MeetingAgent:\n",
        "    \"\"\"Wrapper around an xpander agent backed by NVIDIA NIM.\"\"\"\n",
        "\n",
        "    MODEL = \"nvidia/llama-3.1-nemotron-ultra-253b-v1\"\n",
        "\n",
        "    def __init__(self, xpander_key: str, nim_key: str, agent_id: str):\n",
        "        self.client      = XpanderClient(api_key=xpander_key)\n",
        "        self.agent: Agent= self.client.agents.get(agent_id=agent_id)\n",
        "        self.agent.select_llm_provider(llm_provider=LLMProvider.NVIDIA_NIM)\n",
        "        self.llm         = OpenAI(base_url=\"https://integrate.api.nvidia.com/v1\",\n",
        "                                  api_key=nim_key)\n",
        "\n",
        "    # ------------------------------------------------------------------\n",
        "    def run(self, prompt: str, *, thread_id: str | None = None):\n",
        "        \"\"\"Run a single prompt; returns (text, thread_id).\"\"\"\n",
        "        self.agent.add_task(input=prompt, thread_id=thread_id)\n",
        "        \n",
        "        current_time = dt.datetime.now().isoformat(sep=' ', timespec='seconds')\n",
        "        \n",
        "        # add current time for fresh threads\n",
        "        if not thread_id:\n",
        "            self.agent.add_messages([{\n",
        "                \"role\": \"system\",\n",
        "                \"content\": f\"Current time: {current_time}\"\n",
        "            }])\n",
        "\n",
        "        usage = Tokens(worker=LLMTokens())   # token accounting\n",
        "        t_start = time.perf_counter()\n",
        "\n",
        "        while not self.agent.is_finished():\n",
        "            t_loop = time.perf_counter()\n",
        "            res = self.llm.chat.completions.create(\n",
        "                model       = self.MODEL,\n",
        "                messages    = self.agent.messages,\n",
        "                temperature = 0,\n",
        "                tools       = self.agent.get_tools(),\n",
        "                tool_choice = self.agent.tool_choice,\n",
        "            )\n",
        "            \n",
        "            # count tokens\n",
        "            u = res.usage\n",
        "            usage.worker.completion_tokens += u.completion_tokens\n",
        "            usage.worker.prompt_tokens     += u.prompt_tokens\n",
        "            usage.worker.total_tokens      += u.total_tokens\n",
        "\n",
        "            # report execution llm metrics\n",
        "            self.agent.report_llm_usage(\n",
        "                res.model_dump(),\n",
        "                time.perf_counter() - t_loop\n",
        "            )\n",
        "            \n",
        "            # add llm response to the agent's memory\n",
        "            self.agent.add_messages(res.model_dump())\n",
        "\n",
        "            # extract tool calls and run (cloud)\n",
        "            tool_calls = self.agent.extract_tool_calls(res.model_dump())\n",
        "            self.agent.run_tools(tool_calls)\n",
        "\n",
        "        result = self.agent.retrieve_execution_result()\n",
        "        self.agent.report_execution_metrics(\n",
        "            llm_tokens=usage,\n",
        "            ai_model=self.MODEL\n",
        "        )\n",
        "        duration = time.perf_counter() - t_start\n",
        "        print(f\"⏱ Finished in {duration:.1f}s — status: {result.status}\")\n",
        "        return result.result, result.memory_thread_id\n"
      ]
    },
    {
      "cell_type": "markdown",
      "id": "115b4755",
      "metadata": {},
      "source": [
        "## 5  Initialize Agent & Provide Instructions"
      ]
    },
    {
      "cell_type": "code",
      "execution_count": null,
      "id": "5dcbaafe",
      "metadata": {},
      "outputs": [],
      "source": [
        "\n",
        "meeting_agent = MeetingAgent(XPANDER_API_KEY, NVIDIA_NIM_API_KEY, AGENT_ID)\n",
        "\n",
        "TOOLS_JSON = json.dumps(meeting_agent.agent.get_tools())\n",
        "\n",
        "# set the agent's instructions\n",
        "meeting_agent.agent.instructions.general = f\"\"\"\n",
        "Reasoning mode: ON\n",
        "You are an expert in composing functions. You are given a question and a set of possible functions.\n",
        "Based on the question, you will need to make one or more function/tool calls to achieve the purpose.\n",
        "To list user's calendar, use CalendarEventManagementGetCalendarEventsById\n",
        "If none of the function can be used, point it out. If the given question lacks the parameters required by the function,\n",
        "also point it out. You should only return the function call in tools call sections.\n",
        "\n",
        "If you decide to invoke any of the function(s), you MUST put it in the format of <TOOLCALL>[func_name1{{'params_name1': 'params_value1', 'params_name2': 'params_value2'...}}]</TOOLCALL>\n",
        "\n",
        "You SHOULD NOT include any other text in the response.\n",
        "Here is a list of functions in JSON format that you can invoke. \n",
        "\n",
        "<AVAILABLE_TOOLS>{TOOLS_JSON}</AVAILABLE_TOOLS>\n",
        "\"\"\"\n",
        "\n",
        "meeting_agent.agent.instructions.role = \"\"\"\n",
        "You are a helpful meeting recorder AI agent with access to Google Calendar and Meeting Recording tools.\n",
        "\n",
        "\"\"\"\n",
        "\n",
        "meeting_agent.agent.instructions.goal = \"\"\"\n",
        "Your goal is to help users answer their query, record their meetings, check the status of the recording tools, and get the assets of the recorded meeting using the recording bot id. However, please don't check the status of recorder unless explicitly requested by the user.\n",
        "\n",
        "\"\"\"\n",
        "\n"
      ]
    },
    {
      "cell_type": "markdown",
      "id": "45062e87",
      "metadata": {},
      "source": [
        "## 6  Quick Demo"
      ]
    },
    {
      "cell_type": "code",
      "execution_count": null,
      "id": "4dfd1c2e",
      "metadata": {},
      "outputs": [],
      "source": [
        "# creates a thread and running the agentic loop\n",
        "text, thread = meeting_agent.run('Hi! What can you do?')\n",
        "print(text)"
      ]
    },
    {
      "cell_type": "code",
      "execution_count": null,
      "id": "4ec7cce1",
      "metadata": {},
      "outputs": [],
      "source": [
        "# adding a message to the existing thread and running the agentic loop\n",
        "meeting_agent.run('List my upcoming meetings on <date> and the three days after, including title, time and participants.', thread_id=thread)"
      ]
    },
    {
      "cell_type": "code",
      "execution_count": null,
      "id": "48bb5da5",
      "metadata": {},
      "outputs": [],
      "source": [
        "# adding another message to the existing thread and running the agentic loop\n",
        "meeting_agent.run('Create a recorder for the onboarding meeting.', thread_id=thread)"
      ]
    },
    {
      "cell_type": "code",
      "execution_count": null,
      "id": "966331e7",
      "metadata": {},
      "outputs": [],
      "source": [
        "meeting_agent.run('Check the recorder status and give me the asset links if done.', thread_id=thread)"
      ]
    },
    {
      "cell_type": "code",
      "execution_count": null,
      "id": "a9e461e7",
      "metadata": {},
      "outputs": [],
      "source": [
        "meeting_agent.run('Email the video & transcript to <your_email@example.com>  with a 5‑bullet summary.', thread_id=thread)"
      ]
    },
    {
      "cell_type": "markdown",
      "id": "f4d51f52",
      "metadata": {},
      "source": [
        "## 7  Next Steps\n",
        "* Add more calendar providers or messaging channels.\n",
        "* Extend with custom tools (e.g. Slack notifications).\n",
        "* Multi‑user auth & context isolation.\n",
        "\n",
        "📚 See the [xpander docs](https://docs.xpander.ai) for deeper integrations."
      ]
    }
  ],
  "metadata": {
    "kernelspec": {
      "display_name": ".venv",
      "language": "python",
      "name": "python3"
    },
    "language_info": {
      "codemirror_mode": {
        "name": "ipython",
        "version": 3
      },
      "file_extension": ".py",
      "mimetype": "text/x-python",
      "name": "python",
      "nbconvert_exporter": "python",
      "pygments_lexer": "ipython3",
      "version": "3.13.3"
    }
  },
  "nbformat": 4,
  "nbformat_minor": 5
}
