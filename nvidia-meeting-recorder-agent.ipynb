{
  "cells": [
    {
      "cell_type": "markdown",
      "id": "04ee9791",
      "metadata": {},
      "source": [
        "# NVIDIA Meeting Recorder Agent — Pro & Refactored\n",
        "\n",
        "This notebook demonstrates how to build an autonomous AI agent using xpander.ai, a Backend-as-a-Service platform for AI agents, powered by an NVIDIA NIM model.\n",
        "The agent functions as a Meeting Recording Assistant, showcasing a low-abstraction approach to agent design with persistent memory,tool orchestration, and state management.  \n",
        "\n",
        "Specifically, the AI Agent has these capabilities: \n",
        "\n",
        "* Access external APIs (Calendar, Meeting recorder service)\n",
        "* Execute complex multi-turn operations (Recording setup, post-meeting asset retrieval)\n",
        "* Maintain state across interactions\n",
        "* Process and synthesize information from various sources (Calendar, Meeting details...)"
      ]
    },
    {
      "cell_type": "markdown",
      "id": "5c0ff027",
      "metadata": {},
      "source": [
        "## Prerequisites\n",
        "\n",
        "Before coding, make sure you have the following:\n",
        "\n",
        "- **Python** ≥ 3.10 installed on your system\n",
        "- **Node.js** (for the xpander CLI)\n",
        "- **LLM**: Access to an **NVIDIA NIM** model, specifically: llama-3.1-nemotron-ultra-253b-v1. You can get access to NVIDIA-hosted inference of this model by creating an account and generating an API key on [NVIDIA NIM API](https://build.nvidia.com/)\n",
        "- Access to the xpander.ai Platform at https://app.xpander.ai\n",
        "- .env file containing\n",
        "\n",
        "    * XPANDER_API_KEY=...   # Get from https://app.xpander.ai later in the tutorial\n",
        "    * NVIDIA_NIM_API_KEY=... # Get from https://build.nvidia.com\n",
        "    * XPANDER_AGENT_ID=... # Get from https://app.xpander.ai later in the tutorial"
      ]
    },
    {
      "cell_type": "markdown",
      "id": "e1e33e4f",
      "metadata": {},
      "source": [
        "## Installation\n",
        "\n",
        "First, let's install the required packages:"
      ]
    },
    {
      "cell_type": "code",
      "execution_count": null,
      "id": "f2c17276",
      "metadata": {},
      "outputs": [],
      "source": [
        "%pip install -r requirements.txt"
      ]
    },
    {
      "cell_type": "markdown",
      "id": "a16b130f",
      "metadata": {},
      "source": [
        "# Set up and build the AI Agent\n",
        "#\n",
        "#\n",
        "#### 1. Login to xpander.ai: \n",
        "#\n",
        "##### Install xpander CLI on your terminal (skip if already installed)\n",
        "```bash\n",
        "npm install -g xpander-cli\n",
        "xpander login    # Register or login to the xpander.ai platform. Once completed, copy XPANDER_API_KEY from the CLI response to your .env file\n",
        "```\n",
        "#### 2. Build the Agent:\n",
        "\n",
        "Use the pre‑built xpander template below to create the agent with all necessary tools wired up.\n",
        "#\n",
        "<div style=\"text-align: center;\">\n",
        "  <a href=\"https://app.xpander.ai/templates/48039a71-c99c-4691-8b66-a6faca3ccbe4\" target=\"_blank\">\n",
        "    <button style=\"background-color:#6741d9;color:white;padding:10px 20px;font-size:14px;border:none;border-radius:8px;cursor:pointer;\">\n",
        "      Build NVIDIA Meeting Recorder Agent with xpander Template\n",
        "    </button>\n",
        "  </a>\n",
        "</div>\n",
        "\n",
        "#\n",
        "After completing the template import, make sure your agent looks similar to this in the user-interface, and that you complete the connection to Google Calendar (make sure there's no red exclamation mark on your Google Calendar tool)\n",
        "\n",
        "<img src=\"/images/agent-screenshot.png\" width=\"900\">\n",
        "\n",
        "<div style=\"\n",
        "  border-left: 4px solid #42b983;\n",
        "  padding-left: 1em;\n",
        "  margin: 1em 0;\n",
        "  font-size: 14px;\n",
        "\">\n",
        "  <strong>💡 </strong> Quick rundown of the xpander.ai Agent Workbench:\n",
        "\n",
        "  * The top nodes are source nodes - you use them to configure different ways to trigger your agent.\n",
        "\n",
        "  * The box marked \"Meeting Recording Agent - (Imported)\" is a visual representation of your agent.\n",
        "\n",
        "  * Nodes inside the agent are tools (for function calling). Every time the agent is triggered, these tools are presented to the model as its available tools in the inference call.\n",
        "  \n",
        "  * You can click the Settings (cog) button to see all the settings for your agent, such as instructions, memory settings, conversation starters, and more.\n",
        "\n",
        "</div>\n",
        "\n",
        "#\n",
        "#\n",
        "Copy the Agent ID from the URL (https://app.xpander.ai/agents/{agent-id}) and add it to your .env file as XPANDER_AGENT_ID={agent-id}.\n",
        "\n",
        "For example: \"e0ee265f-5f79-4aa3-34b5-5226623223e6f\"\n",
        "\n",
        "Next step: load the environment variables."
      ]
    },
    {
      "cell_type": "code",
      "execution_count": null,
      "id": "5d2dde68",
      "metadata": {},
      "outputs": [],
      "source": [
        "import os, time, datetime as dt\n",
        "from dotenv import load_dotenv\n",
        "from xpander_sdk import XpanderClient, LLMProvider, Agent, Tokens, LLMTokens\n",
        "from openai import OpenAI\n",
        "import json\n",
        "\n",
        "load_dotenv()\n",
        "\n",
        "REQUIRED = [\"XPANDER_API_KEY\", \"NVIDIA_NIM_API_KEY\", \"XPANDER_AGENT_ID\"]\n",
        "missing = [k for k in REQUIRED if os.getenv(k) is None]\n",
        "if missing:\n",
        "    raise EnvironmentError(f\"Missing env vars: {', '.join(missing)}\")\n",
        "\n",
        "XPANDER_API_KEY    = os.getenv(\"XPANDER_API_KEY\")\n",
        "NVIDIA_NIM_API_KEY = os.getenv(\"NVIDIA_NIM_API_KEY\")\n",
        "AGENT_ID           = os.getenv(\"XPANDER_AGENT_ID\")\n",
        "\n",
        "print(\"✅ Environment ready — open your agent at\",\n",
        "      f\"https://app.xpander.ai/agents/{AGENT_ID}\")"
      ]
    },
    {
      "cell_type": "markdown",
      "id": "598e79bd",
      "metadata": {},
      "source": [
        "#### 3. MeetingAgent Class - The core agent implementation\n",
        "\n",
        " The agent executes a multi-step processing loop that:\n",
        "- Processes user input\n",
        "- Manages context (including time)\n",
        "- Generates LLM responses\n",
        "- Extracts and executes tool calls\n",
        "- Updates state and returns results"
      ]
    },
    {
      "cell_type": "code",
      "execution_count": null,
      "id": "3ec38ca0",
      "metadata": {},
      "outputs": [],
      "source": [
        "\n",
        "class MeetingAgent:\n",
        "    \"\"\"Wrapper around an xpander agent backed by NVIDIA NIM.\"\"\"\n",
        "\n",
        "    MODEL = \"nvidia/llama-3.1-nemotron-ultra-253b-v1\"\n",
        "\n",
        "    def __init__(self, xpander_key: str, nim_key: str, agent_id: str):\n",
        "        self.client      = XpanderClient(api_key=xpander_key)\n",
        "        self.agent: Agent= self.client.agents.get(agent_id=agent_id)\n",
        "        self.agent.select_llm_provider(llm_provider=LLMProvider.NVIDIA_NIM)\n",
        "        self.llm         = OpenAI(base_url=\"https://integrate.api.nvidia.com/v1\",\n",
        "                                  api_key=nim_key)\n",
        "\n",
        "    # ------------------------------------------------------------------\n",
        "    def run(self, prompt: str, *, thread_id: str | None = None):\n",
        "        \"\"\"Run a single prompt; returns (text, thread_id).\"\"\"\n",
        "        self.agent.add_task(input=prompt, thread_id=thread_id)\n",
        "        \n",
        "        current_time = dt.datetime.now().isoformat(sep=' ', timespec='seconds')\n",
        "        \n",
        "        # add current time for fresh threads\n",
        "        if not thread_id:\n",
        "            self.agent.add_messages([{\n",
        "                \"role\": \"system\",\n",
        "                \"content\": f\"Current time: {current_time}\"\n",
        "            }])\n",
        "\n",
        "        usage = Tokens(worker=LLMTokens())   # token accounting\n",
        "        t_start = time.perf_counter()\n",
        "\n",
        "        while not self.agent.is_finished():\n",
        "            t_loop = time.perf_counter()\n",
        "            res = self.llm.chat.completions.create(\n",
        "                model       = self.MODEL,\n",
        "                messages    = self.agent.messages,\n",
        "                temperature = 0,\n",
        "                tools       = self.agent.get_tools(),\n",
        "                tool_choice = self.agent.tool_choice,\n",
        "            )\n",
        "            \n",
        "            # count tokens\n",
        "            u = res.usage\n",
        "            usage.worker.completion_tokens += u.completion_tokens\n",
        "            usage.worker.prompt_tokens     += u.prompt_tokens\n",
        "            usage.worker.total_tokens      += u.total_tokens\n",
        "\n",
        "            # report execution llm metrics\n",
        "            self.agent.report_llm_usage(\n",
        "                res.model_dump(),\n",
        "                time.perf_counter() - t_loop\n",
        "            )\n",
        "            \n",
        "            # add llm response to the agent's memory\n",
        "            self.agent.add_messages(res.model_dump())\n",
        "\n",
        "            # extract tool calls and run (cloud)\n",
        "            tool_calls = self.agent.extract_tool_calls(res.model_dump())\n",
        "            self.agent.run_tools(tool_calls)\n",
        "\n",
        "        result = self.agent.retrieve_execution_result()\n",
        "        self.agent.report_execution_metrics(\n",
        "            llm_tokens=usage,\n",
        "            ai_model=self.MODEL\n",
        "        )\n",
        "        duration = time.perf_counter() - t_start\n",
        "        print(f\"⏱ Finished in {duration:.1f}s — status: {result.status}\")\n",
        "        return result.result, result.memory_thread_id\n"
      ]
    },
    {
      "cell_type": "markdown",
      "id": "115b4755",
      "metadata": {},
      "source": [
        "#### 4. Initialize agent & provide instructions:"
      ]
    },
    {
      "cell_type": "code",
      "execution_count": null,
      "id": "5dcbaafe",
      "metadata": {},
      "outputs": [],
      "source": [
        "\n",
        "meeting_agent = MeetingAgent(XPANDER_API_KEY, NVIDIA_NIM_API_KEY, AGENT_ID)\n",
        "\n",
        "TOOLS_JSON = json.dumps(meeting_agent.agent.get_tools())\n",
        "\n",
        "# set the agent's instructions\n",
        "meeting_agent.agent.instructions.general = f\"\"\"\n",
        "Reasoning mode: ON\n",
        "You are an expert in composing functions. You are given a question and a set of possible functions.\n",
        "Based on the question, you will need to make one or more function/tool calls to achieve the purpose.\n",
        "To list user's calendar, use CalendarEventManagementGetCalendarEventsById\n",
        "If none of the function can be used, point it out. If the given question lacks the parameters required by the function,\n",
        "also point it out. You should only return the function call in tools call sections.\n",
        "\n",
        "If you decide to invoke any of the function(s), you MUST put it in the format of <TOOLCALL>[func_name1{{'params_name1': 'params_value1', 'params_name2': 'params_value2'...}}]</TOOLCALL>\n",
        "\n",
        "You SHOULD NOT include any other text in the response.\n",
        "Here is a list of functions in JSON format that you can invoke. \n",
        "\n",
        "<AVAILABLE_TOOLS>{TOOLS_JSON}</AVAILABLE_TOOLS>\n",
        "\"\"\"\n",
        "\n",
        "meeting_agent.agent.instructions.role = \"\"\"\n",
        "You are a helpful meeting recorder AI agent with access to Google Calendar and Meeting Recording tools.\n",
        "\n",
        "\"\"\"\n",
        "\n",
        "meeting_agent.agent.instructions.goal = \"\"\"\n",
        "Your goal is to help users answer their query, record their meetings, check the status of the recording tools, and get the assets of the recorded meeting using the recording bot id. However, please don't check the status of recorder unless explicitly requested by the user.\n",
        "\n",
        "\"\"\"\n",
        "\n"
      ]
    },
    {
      "cell_type": "markdown",
      "id": "45062e87",
      "metadata": {},
      "source": [
        "#### 5. Usage Examples"
      ]
    },
    {
      "cell_type": "code",
      "execution_count": null,
      "id": "4dfd1c2e",
      "metadata": {},
      "outputs": [],
      "source": [
        "# creates a thread and running the agentic loop\n",
        "text, thread = meeting_agent.run('Hi! What can you do?')\n",
        "print(text)"
      ]
    },
    {
      "cell_type": "markdown",
      "id": "41457fdc",
      "metadata": {},
      "source": [
        "##### Add Calendar Integration:"
      ]
    },
    {
      "cell_type": "markdown",
      "id": "790155eb",
      "metadata": {},
      "source": [
        "<div style=\"border-left: 4px solid #42b983; padding-left: 1em; margin: 1em 0; font-size: 14px; line-height: 1.6\">\n",
        "  <p>\n",
        "    <strong>🚨 Replace</strong> <code>&lt;DATE&gt;</code> <strong>with the actual date you want to query.</strong><br>\n",
        "    <span> Format examples:</span> <code>May 21 2025</code>, <code>2025-05-21</code><br>\n",
        "    <span> Example prompt:</span><br>\n",
        "    <code>List my upcoming meetings on May 21 2025 and the three consecutive days...</code>\n",
        "  </p>\n",
        "</div>\n"
      ]
    },
    {
      "cell_type": "code",
      "execution_count": null,
      "id": "4ec7cce1",
      "metadata": {},
      "outputs": [],
      "source": [
        "# adding a message to the existing thread and running the agentic loop\n",
        "meeting_agent.run('List my upcoming meetings on <DATE> and the three consecutive days, including title, time and participants.', thread_id=thread)"
      ]
    },
    {
      "cell_type": "markdown",
      "id": "d2281547",
      "metadata": {},
      "source": [
        "##### Recording Control:"
      ]
    },
    {
      "cell_type": "markdown",
      "id": "5b312940",
      "metadata": {},
      "source": [
        "<div style=\"border-left: 4px solid #42b983; padding-left: 1em; margin: 1em 0; font-size: 14px; line-height: 1.8\">\n",
        "  <p>\n",
        "    <strong>🚨 Replace</strong> <code>&lt;MEETING_TITLE&gt;</code> <strong>with the exact title of the meeting you want to create a recorder for, from the list above.</strong><br>\n",
        "    <span> Example prompt:</span><br>\n",
        "    <code>Create a recorder for the Q2 Planning Sync.</code>\n",
        "  </p>\n",
        "</div>\n"
      ]
    },
    {
      "cell_type": "code",
      "execution_count": null,
      "id": "48bb5da5",
      "metadata": {},
      "outputs": [],
      "source": [
        "# adding another message to the existing thread and running the agentic loop\n",
        "meeting_agent.run('Create a recorder for <MEETING_TITLE>.', thread_id=thread)"
      ]
    },
    {
      "cell_type": "code",
      "execution_count": null,
      "id": "966331e7",
      "metadata": {},
      "outputs": [],
      "source": [
        "meeting_agent.run('Check the recorder status and give me the asset links if done.', thread_id=thread)"
      ]
    },
    {
      "cell_type": "markdown",
      "id": "933cb4ab",
      "metadata": {},
      "source": [
        "#### Email Delivery:"
      ]
    },
    {
      "cell_type": "markdown",
      "id": "2dd0f6b5",
      "metadata": {},
      "source": [
        "<div style=\"border-left: 4px solid #42b983; padding-left: 1em; margin: 1em 0; font-size: 14px; line-height: 1.6\">\n",
        "  <p>\n",
        "    <strong>🚨 Replace</strong> <code>&lt;YOUR_EMAIL&gt;</code> <strong>with your actual email address.</strong><br>\n",
        "    <span> Example prompt:</span><br>\n",
        "    <code>Email the video & transcript to team@example.com with a summary.</code>\n",
        "  </p>\n",
        "</div>"
      ]
    },
    {
      "cell_type": "code",
      "execution_count": null,
      "id": "a9e461e7",
      "metadata": {},
      "outputs": [],
      "source": [
        "meeting_agent.run('Email the video & transcript to <YOUR_EMAIL>  with a 5‑bullet summary.', thread_id=thread)"
      ]
    },
    {
      "cell_type": "markdown",
      "id": "f4d51f52",
      "metadata": {},
      "source": [
        "#### 6. Next Steps:\n",
        "#\n",
        "#### Building on Top of This Agent:\n",
        "\n",
        "This implementation leverages key capabilities of xpander.ai as a backend for agents, making it ideal for extension:\n",
        "\n",
        "##### Development Acceleration\n",
        "\n",
        "- **Visual Workbench**: Rapidly test and debug agent behavior through the xpander.ai Agent Workbench\n",
        "- **Tool Management**: Add custom tools or use pre-built tools from the library\n",
        "- **Framework Flexibility**: Switch between different LLM providers without code changes\n",
        "- **State Persistence**: Thread management across agent calls handled automatically\n",
        "\n",
        "##### Production Integration\n",
        "\n",
        "- **Multi-endpoint Triggering**: Expose agents via API, Agent-to-Agent (A2A), MCP, and more.\n",
        "- **Custom UI Integration**: Wrap agents with a web UI, embed in existing applications, or integrate with Slack/Teams\n",
        "- **Observability**: Monitor execution paths, performance metrics, and error patterns\n",
        "- **Versioning & Lifecycle**: Deploy multiple versions and manage agent lifecycle\n",
        "\n",
        "##### Customization Options\n",
        "\n",
        "1. **Additional Tools**: Extend the agent with new tools for different meeting platforms or data sources\n",
        "2. **UI Development**: Build custom interfaces on top of the agent API\n",
        "3. **Multi-agent Orchestration**: Connect multiple specialized agents working together\n",
        "4. **Domain Adaptation**: Customize the agent for specific industries or use cases\n",
        "\n",
        "\n",
        "📚 See the [xpander docs](https://docs.xpander.ai) for deeper integrations."
      ]
    }
  ],
  "metadata": {
    "kernelspec": {
      "display_name": ".venv",
      "language": "python",
      "name": "python3"
    },
    "language_info": {
      "codemirror_mode": {
        "name": "ipython",
        "version": 3
      },
      "file_extension": ".py",
      "mimetype": "text/x-python",
      "name": "python",
      "nbconvert_exporter": "python",
      "pygments_lexer": "ipython3",
      "version": "3.12.7"
    }
  },
  "nbformat": 4,
  "nbformat_minor": 5
}
