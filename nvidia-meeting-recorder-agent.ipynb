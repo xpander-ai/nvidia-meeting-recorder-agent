{
 "cells": [
  {
   "cell_type": "markdown",
   "metadata": {},
   "source": [
    "# NVIDIA Meeting Recorder Agent\n",
    "\n",
    "In this notebook, we'll build a meeting recorder agent capable of finding appointments on your Google Calendar, recording the meetings, and sending the recording assets 8video, transcription, and summary) via email.\n",
    "\n",
    "By the end of the notebook, you'll be able to build and run an agent with xpander that can perform several key tasks, such as:\n",
    "\n",
    "- Checking your meeting schedule on Google Calendar and retrieving relevant meeting information  \n",
    "- Creating a meeting recorder to capture the session and monitoring its real-time status  \n",
    "- Sending the recording, transcription, and summary of the meeting to a specified email address\n",
    "\n",
    "Along the way, we’ll explore how to persist the agent’s memory using the xpander SDK, and observe the agent’s real-time thought process as it completes each task.\n",
    "\n",
    "We’ll be using the xpander Python SDK and NVIDIA NIM to bring this agent to life. The xpander SDK manages the workflow and orchestration, while NVIDIA NIM powers the agent's large language model.\n",
    "\n",
    "## Table of Contents\n",
    "<ul>\n",
    "  <li><a href=\"#Fetch-xpander.ai-API-Key\">Fetch xpander.ai API Key</a></li>\n",
    "  <li><a href=\"#Fetch-NVIDIA-NIM-API-Key\">Fetch NVIDIA NIM API Key</a></li>\n",
    "  <li><a href=\"#Setup-and-Build-the-AI-Agent\">Setup and Build the AI Agent</a></li>\n",
    "  <li><a href=\"#Interact-and-Execute-Agent\">Interact and Execute Agent</a>\n",
    "    <ul>\n",
    "      <li><a href=\"#Define-the-Meeting-Agent-Class\">Define the Meeting Agent Class</a></li>\n",
    "      <li><a href=\"#Initialize-the-Meeting-Agent\">Initialize the Meeting Agent</a></li>\n",
    "      <li><a href=\"#Example-Use-Case-1:-Test-Agent's-Capabilities\">Example Use Case 1: Test Agent's Capabilities</a></li>\n",
    "      <li><a href=\"#Example-Use-Case-2:-Retrieve-Upcoming-Calendar-Events\">Example Use Case 2: Retrieve Upcoming Calendar Events</a></li>\n",
    "      <li><a href=\"#Example-Use-Case-3:-Set-Up-Meeting-Recorder\">Example Use Case 3: Set Up Meeting Recorder</a></li>\n",
    "      <li><a href=\"#Example-Use-Case-4:-Check-the-Meeting-Recorder-Status\">Example Use Case 4: Check the Meeting Recorder Status</a></li>\n",
    "      <li><a href=\"#Example-Use-Case-5:-Send-Recording-Assets-via-Email\">Example Use Case 5: Send Recording Assets via Email</a></li>\n",
    "    </ul>\n",
    "  </li>\n",
    "  <li><a href=\"#Summary:-Working-with-the-Meeting-Recorder-Agent\">Summary: Working with the Meeting Recorder Agent</a></li>\n",
    "  <li><a href=\"#Next-Steps\">Next Steps</a></li>\n",
    "</ul>\n",
    "\n",
    "Since we're going to use xpander and NVIDIA NIM, then we need to set up two different API keys before we start: **xpander API key** and **NVIDIA NIM API key**. Let's fetch our xpander API key first."
   ]
  },
  {
   "cell_type": "markdown",
   "metadata": {},
   "source": [
    "<a id=\"Fetch-xpander.ai-API-Key\"></a>\n",
    "## Fetch xpander.ai API Key\n",
    "\n",
    "The simplest way to fetch your xpander API key is by using the xpander CLI.\n",
    "\n",
    "To install the CLI, you'll need to have Node.js installed on your system. If you haven’t installed Node.js yet, visit their [download page](https://nodejs.org/en/download) and follow the installation instructions.\n",
    "\n",
    "Once Node.js is installed, run the following command to install the xpander CLI globally:"
   ]
  },
  {
   "cell_type": "code",
   "execution_count": 8,
   "metadata": {},
   "outputs": [
    {
     "name": "stdout",
     "output_type": "stream",
     "text": [
      "\u001b[1G\u001b[0K⠙\u001b[1G\u001b[0K⠹\u001b[1G\u001b[0K⠸^C\n"
     ]
    }
   ],
   "source": [
    "!npm install -g xpander-cli"
   ]
  },
  {
   "cell_type": "markdown",
   "metadata": {},
   "source": [
    "Next, log in to your xpander account via the CLI to retrieve your API key by running:"
   ]
  },
  {
   "cell_type": "code",
   "execution_count": null,
   "metadata": {},
   "outputs": [],
   "source": [
    "!xpander login"
   ]
  },
  {
   "cell_type": "markdown",
   "metadata": {},
   "source": [
    "Your API key will be displayed in the terminal, as shown in the visualization below:\n",
    "\n",
    "<div style=\"text-align: center;\">\n",
    "<img src=\"images/img_1.png\" alt=\"xpander API key display\" style=\"max-height: 300px;\">\n",
    "</div>\n",
    "\n",
    "Copy your xpander API key and paste it into the `.env` file you created after completing the steps in the **Getting Started** section of this repo.\n",
    "\n",
    "\n",
    "<a id=\"Fetch-NVIDIA-NIM-API-Key\"></a>\n",
    "## Fetch NVIDIA NIM API Key\n",
    "\n",
    "You can get the NVIDIA NIM API key for free. Just head over to [https://build.nvidia.com/models](https://build.nvidia.com/models) and select the LLM you’d like to use.  \n",
    "\n",
    "For this blueprint, we’ll use NVIDIA’s `llama-3.1-nemotron-ultra-253b-v1`.\n",
    "\n",
    "<div style=\"text-align: center;\">\n",
    "    <img src=\"images/img_2.png\" alt=\"xpander API key display\" style=\"max-height: 300px;\">\n",
    "</div>\n",
    "\n",
    "Click on **Get API Key** in the top-right corner, then copy your NVIDIA NIM API key and paste it into the `.env` file you created after completing the steps in the **Getting Started** section of this repo.\n",
    "\n",
    "\n",
    "<a id=\"Setup-and-Build-the-AI-Agent\"></a>\n",
    "## Set Up and Build the AI Agent\n",
    "\n",
    "Now that we've set up the required credentials, we can start building our meeting recorder agent.\n",
    "\n",
    "We've prepared a template that you can use to instantly spin up the agent. Just click the button below to build the agent using our template.\n",
    "\n",
    "\n",
    "<br>\n",
    "<br>\n",
    "<div style=\"text-align: center;\">\n",
    "    <a href=\"https://app.xpander.ai/templates/383f7607-0223-42a8-a472-5c7b1fdf6315\" target=\"_blank\">\n",
    "        <button style=\"\n",
    "            background-color: #6741d9;\n",
    "            color:white;\n",
    "            padding: 10px 20px;\n",
    "            font-size: 14px;\n",
    "            border: none;\n",
    "            border-radius: 8px;\n",
    "            cursor: pointer;\n",
    "    \">\n",
    "            Build AI Meeting Recorder Agent with xpander Template\n",
    "        </button>\n",
    "    </a>\n",
    "</div>\n",
    "<br>\n",
    "<br>\n",
    "\n",
    "\n",
    "After clicking the button, you'll be redirected to the xpander console, as shown in the visualization below:\n",
    "\n",
    "<div style=\"text-align: center;\">\n",
    "    <img src=\"images/img_3.png\" alt=\"\" style=\"max-height: 300px;\">\n",
    "</div>\n",
    "\n",
    "Using a template to build an AI agent is straightforward. The template handles everything needed to set up the agent:\n",
    "\n",
    "- It configures the required interface(s), such as Google Calendar, along with the relevant operations (e.g., retrieve events, create events, delete events, etc.).\n",
    "- It orchestrates the agent’s logical workflow, if necessary.\n",
    "\n",
    "<div style=\"text-align: center;\">\n",
    "    <img src=\"images/img_4.png\" alt=\"\" style=\"max-height: 300px;\">\n",
    "</div>\n",
    "\n",
    "Once you click **Finish**, you’ll see that a new AI agent called **AI Meeting Recorder Agent (Imported)** has been successfully created in your xpander account.\n",
    "\n",
    "<div style=\"text-align: center;\">\n",
    "    <img src=\"images/img_5.png\" alt=\"\" style=\"max-height: 300px;\">\n",
    "</div>\n",
    "\n",
    "Clicking on the newly created agent will show you the agent's orchestration derived from the template, along with the configured interfaces needed to run the agent.\n",
    "\n",
    "Since a key feature of this agent is the ability to check your Google Calendar for scheduled meetings, you’ll need to grant xpander permission to access your calendar.  \n",
    "\n",
    "If you haven’t granted this permission yet, you’ll see a warning icon next to the Google Calendar operation, as shown in the visualization below:\n",
    "\n",
    "<div style=\"text-align: center;\">\n",
    "    <img src=\"images/img_6.png\" alt=\"\" style=\"max-height: 300px;\">\n",
    "</div>\n",
    "\n",
    "To grant xpander permission to access your Google Calendar, click on the warning icon. Then, click **Sign In with Google Calendar** and follow the prompts.\n",
    "\n",
    "Once you've granted permission to xpander, the warning icon should disappear.\n",
    "\n",
    "Next, we need to bind the agent ID with our API key so we can interact with the agent. We’ll also need to store the agent ID in the `.env` file. To do this, click on the **SDK** node at the top of the graph visualization in your xpander console, as shown below:\n",
    "\n",
    "<div style=\"text-align: center;\">\n",
    "    <img src=\"images/img_7.png\" alt=\"\" style=\"max-height: 300px;\">\n",
    "</div>\n",
    "\n",
    "Copy the agent ID into the `.env` file. Then, click **Assign API Keys** and tick the box next to your xpander API key, as shown below:\n",
    "\n",
    "<div style=\"text-align: center;\">\n",
    "    <img src=\"images/img_8.png\" alt=\"\" style=\"max-height: 300px;\">\n",
    "</div>\n",
    "\n",
    "And that's it. We're now ready to interact with our agent!\n",
    "\n",
    "\n",
    "<a id=\"Interact-and-Execute-Agent\"></a>\n",
    "\n",
    "## Interact and Execute Agent\n",
    "\n",
    "In this section, we’ll execute and interact with the agent we created using the template. As mentioned in the introduction of this notebook, we’ll use the agent to perform several tasks, including:\n",
    "\n",
    "- Checking our meeting schedule on Google Calendar and retrieving relevant meeting information  \n",
    "- Creating a meeting recorder to capture the session and monitoring its real-time status  \n",
    "- Sending the recording, transcription, and summary of the meeting to a specified email address  \n",
    "\n",
    "First, let’s retrieve all the necessary credentials: the xpander API key, the NVIDIA NIM API key, and the agent ID we created in the above steps."
   ]
  },
  {
   "cell_type": "code",
   "execution_count": 1,
   "metadata": {},
   "outputs": [
    {
     "name": "stdout",
     "output_type": "stream",
     "text": [
      "✅ All required API keys loaded successfully\n",
      "Open the agent alogside this notebook at https://app.xpander.ai/agents/d32c6a03-775a-4edc-a754-0e1ddc5b7b75\n"
     ]
    }
   ],
   "source": [
    "import os\n",
    "import datetime\n",
    "import time\n",
    "import re\n",
    "import ast\n",
    "import random\n",
    "from dotenv import load_dotenv\n",
    "from xpander_sdk import XpanderClient, LLMProvider, ToolCall, ToolCallType, Tokens, LLMTokens, Agent\n",
    "from openai import OpenAI\n",
    "\n",
    "# Load environment variables\n",
    "load_dotenv()\n",
    "\n",
    "# Verify required API keys are available\n",
    "xpander_api_key = os.environ.get(\"XPANDER_API_KEY\")\n",
    "agent_id = os.environ.get(\"XPANDER_AGENT_ID\")\n",
    "nvidia_nim_api_key = os.environ.get(\"NVIDIA_NIM_API_KEY\")\n",
    "\n",
    "\n",
    "if not all([xpander_api_key, nvidia_nim_api_key, agent_id]):\n",
    "    missing = []\n",
    "    if not xpander_api_key: missing.append(\"XPANDER_API_KEY\")\n",
    "    if not nvidia_nim_api_key: missing.append(\"NVIDIA_NIM_API_KEY\")\n",
    "    if not agent_id: missing.append(\"XPANDER_AGENT_ID\")\n",
    "    print(f\"❗️ Missing required environment variables: {', '.join(missing)}\")\n",
    "else:\n",
    "    print(f\"✅ All required API keys loaded successfully\")\n",
    "    \n",
    "print(f\"Open the agent alogside this notebook at https://app.xpander.ai/agents/{agent_id}\")"
   ]
  },
  {
   "cell_type": "markdown",
   "metadata": {},
   "source": [
    "<a id=\"Define-the-Meeting-Agent-Class\"></a>\n",
    "### Define the Meeting Agent Class\n",
    "\n",
    "Now, let’s create our `MeetingAgent` class. This class will handle both the initialization of the agent and the logic for processing input prompts and generating responses.\n",
    "\n",
    "For each prompt the agent receives, it processes the input and generates a response through a looped operation. Each iteration of the loop consists of the following steps:\n",
    "\n",
    "- The LLM generates a response based on the current state.\n",
    "\n",
    "- It evaluates whether it can complete the task directly or if it needs to call a tool (e.g., Google Calendar, xpander built-in actions, etc.).\n",
    "\n",
    "- If a tool is needed, the agent selects the appropriate tool and provides the required input arguments.\n",
    "\n",
    "- xpander executes the tool call and returns the result to the agent for the next iteration.\n",
    "\n",
    "- Once the LLM determines that it has all the necessary information to answer the user’s query, it calls the `xpfinish-agent-execution-finished` function, essentially ending the loop."
   ]
  },
  {
   "cell_type": "code",
   "execution_count": 2,
   "metadata": {},
   "outputs": [],
   "source": [
    "class MeetingAgent:\n",
    "    \"\"\"Class for running the meeting recorder agent\"\"\"\n",
    "    \n",
    "    def __init__(self, nvidia_nim_api_key, xpander_api_key, agent_id):\n",
    "        self.agent_id = agent_id\n",
    "        self.xpander_client = XpanderClient(api_key=xpander_api_key)\n",
    "        self.openai_client =  OpenAI(\n",
    "            base_url = \"https://integrate.api.nvidia.com/v1\",\n",
    "            api_key = nvidia_nim_api_key\n",
    "            )\n",
    " \n",
    "        self.agent : Agent = self.xpander_client.agents.get(agent_id=self.agent_id)\n",
    "\n",
    "\n",
    "    def run(self, prompt=None, thread_id=None):\n",
    "        \"\"\"Run the agent with the given prompt\"\"\"\n",
    "\n",
    "        task = prompt or f\"Please check the status of all recorded meetings.\"\n",
    "\n",
    "        print(\"-\" * 60)\n",
    "        print(f\"{'Continuing conversation in thread: ' + thread_id if thread_id else 'Starting a new conversation thread'}\")\n",
    "        print(f\"Processing Task: \\n\\n{task}\\n\\n\")\n",
    "        print(\"-\" * 60)\n",
    "           \n",
    "        # Create task with or without thread_id\n",
    "        self.agent.add_task(input=task, thread_id=thread_id if thread_id else None)\n",
    "        self.agent.add_messages([{\"role\": \"assistant\", \"content\": \"the time now is : \" + datetime.datetime.now().strftime('%Y-%m-%d %H:%M:%S')}])\n",
    "\n",
    "        # Initialize token tracking and timing\n",
    "        execution_tokens = Tokens(worker=LLMTokens(completion_tokens=0, prompt_tokens=0, total_tokens=0))\n",
    "        execution_start_time = time.perf_counter()\n",
    "          \n",
    "        # Run the agent until it's finished\n",
    "        while not self.agent.is_finished():\n",
    "\n",
    "            # Track start time for this inference\n",
    "            start_time = time.perf_counter()\n",
    "\n",
    "            # Get response from OpenAI and process\n",
    "            response = self.openai_client.chat.completions.create(\n",
    "                model=\"nvidia/llama-3.1-nemotron-ultra-253b-v1\",\n",
    "                messages= self.agent.messages,\n",
    "                temperature=0.0,\n",
    "                tools=self.agent.get_tools(),\n",
    "                tool_choice=self.agent.tool_choice\n",
    "\n",
    "            )\n",
    "\n",
    "            # Track token usage\n",
    "            execution_tokens.worker.completion_tokens += response.usage.completion_tokens\n",
    "            execution_tokens.worker.prompt_tokens += response.usage.prompt_tokens\n",
    "            execution_tokens.worker.total_tokens += response.usage.total_tokens\n",
    "\n",
    "                \n",
    "            # Report LLM usage to Xpander\n",
    "            self.agent.report_llm_usage(\n",
    "                llm_response=response.model_dump(),\n",
    "                llm_inference_duration=time.perf_counter() - start_time,\n",
    "                llm_provider=LLMProvider.NVIDIA_NIM\n",
    "            )\n",
    "            self.agent.add_messages(response.model_dump())\n",
    "\n",
    "            tool_calls = self.agent.extract_tool_calls(llm_response=response.model_dump())\n",
    "            responses = self.agent.run_tools(tool_calls=tool_calls)\n",
    "            \n",
    "            for response in responses:\n",
    "                print(\"Tool call function name : \", response.function_name)\n",
    "                print(\"HTTP Status code : \", response.status_code) \n",
    "        # Process results\n",
    "        execution_end_time = time.perf_counter()\n",
    "        result = self.agent.retrieve_execution_result()\n",
    "        print(f\"Your thread ID is: {result.memory_thread_id}\")\n",
    "        result_text = result.result\n",
    "    \n",
    "        # Report execution metrics to Xpander\n",
    "        self.agent.report_execution_metrics(\n",
    "            llm_tokens=execution_tokens,\n",
    "            ai_model=\"nvidia/llama-3.1-nemotron-ultra-253b-v1\",\n",
    "        )\n",
    "        print(f\"Status: {result.status}\")\n",
    "        print(f\"Result: {result_text}\")\n",
    "        print(f\"Execution duration: {execution_end_time - execution_start_time:.2f} seconds\")\n",
    "    \n",
    "        # Return both the result text and thread ID\n",
    "        return result_text, result.memory_thread_id"
   ]
  },
  {
   "cell_type": "markdown",
   "metadata": {},
   "source": [
    "<a id=\"Initialize-the-Meeting-Agent\"></a>\n",
    "### Initialize the Meeting Agent\n",
    "\n",
    "Now that we’ve defined the logic for how the agent should process user prompts, let’s go ahead and initialize our meeting agent using the `MeetingAgent` class we just created.\n",
    "\n",
    "We also need to provide the agent with clear instructions, roles, and specific goals. This ensures that:\n",
    "\n",
    "- It understands its task and objective\n",
    "\n",
    "- It follows the correct workflow when handling user requests\n",
    "\n",
    "- It knows which tools to use in various situations to effectively complete a task"
   ]
  },
  {
   "cell_type": "code",
   "execution_count": 3,
   "metadata": {},
   "outputs": [
    {
     "name": "stderr",
     "output_type": "stream",
     "text": [
      "b'{\"stdout\":\"bG9hZGluZyBhZ2VudCBkMzJjNmEwMy03NzVhLTRlZGMtYTc1NC0wZTFkZGM1YjdiNzUK\"}\\n'\n",
      "b'{\"stdout\":\"cnVubmluZyB0b29sIHhwZmluaXNoLWFnZW50LWV4ZWN1dGlvbi1maW5pc2hlZCBvbiBhZ2VudCBkMzJjNmEwMy03NzVhLTRlZGMtYTc1NC0wZTFkZGM1YjdiNzUgd2l0aCBleGVjdXRpb24gMzYxMzVhMmMtNjM5Mi00MDVlLWE5YmItZWRlZmYyZDQyN2M5Cg==\"}\\n'\n",
      "b'{\"stdout\":\"cnVubmluZyB0b29sIENhbGVuZGFyRXZlbnRNYW5hZ2VtZW50R2V0Q2FsZW5kYXJFdmVudHNCeUlkIG9uIGFnZW50IGQzMmM2YTAzLTc3NWEtNGVkYy1hNzU0LTBlMWRkYzViN2I3NSB3aXRoIGV4ZWN1dGlvbiAyMmNhZDg0Ni00NTE0LTRmMTgtYTMzNC0xNWYwNGZmZGYzZjEK\"}\\n'\n",
      "b'{\"stdout\":\"cnVubmluZyB0b29sIHhwZmluaXNoLWFnZW50LWV4ZWN1dGlvbi1maW5pc2hlZCBvbiBhZ2VudCBkMzJjNmEwMy03NzVhLTRlZGMtYTc1NC0wZTFkZGM1YjdiNzUgd2l0aCBleGVjdXRpb24gMjJjYWQ4NDYtNDUxNC00ZjE4LWEzMzQtMTVmMDRmZmRmM2YxCg==\"}\\n'\n",
      "b'{\"stdout\":\"cnVubmluZyB0b29sIFhwYW5kZXJNZWV0aW5nTWFuYWdlbWVudENyZWF0ZVJlY29yZGluZ0JvdCBvbiBhZ2VudCBkMzJjNmEwMy03NzVhLTRlZGMtYTc1NC0wZTFkZGM1YjdiNzUgd2l0aCBleGVjdXRpb24gOTc0Mjk4MDgtOGVlYS00Njc0LWFmMWUtNmY4NTk5MDNhNjk0Cg==\"}\\n'\n",
      "b'{\"stdout\":\"cnVubmluZyB0b29sIFhwYW5kZXJNZWV0aW5nTWFuYWdlbWVudENoZWNrUmVjb3JkZXJTdGF0dXMgb24gYWdlbnQgZDMyYzZhMDMtNzc1YS00ZWRjLWE3NTQtMGUxZGRjNWI3Yjc1IHdpdGggZXhlY3V0aW9uIDk3NDI5ODA4LThlZWEtNDY3NC1hZjFlLTZmODU5OTAzYTY5NAo=\"}\\n'\n",
      "b'{\"stdout\":\"cnVubmluZyB0b29sIHhwZmluaXNoLWFnZW50LWV4ZWN1dGlvbi1maW5pc2hlZCBvbiBhZ2VudCBkMzJjNmEwMy03NzVhLTRlZGMtYTc1NC0wZTFkZGM1YjdiNzUgd2l0aCBleGVjdXRpb24gOTc0Mjk4MDgtOGVlYS00Njc0LWFmMWUtNmY4NTk5MDNhNjk0Cg==\"}\\n'\n",
      "b'{\"stdout\":\"cnVubmluZyB0b29sIFhwYW5kZXJNZWV0aW5nTWFuYWdlbWVudENoZWNrUmVjb3JkZXJTdGF0dXMgb24gYWdlbnQgZDMyYzZhMDMtNzc1YS00ZWRjLWE3NTQtMGUxZGRjNWI3Yjc1IHdpdGggZXhlY3V0aW9uIGZmNTk0YzIyLTA2NWMtNGZjMS05MDc2LTUyOTFiODZlYjE5Mgo=\"}\\n'\n",
      "b'{\"stdout\":\"cnVubmluZyB0b29sIHhwZmluaXNoLWFnZW50LWV4ZWN1dGlvbi1maW5pc2hlZCBvbiBhZ2VudCBkMzJjNmEwMy03NzVhLTRlZGMtYTc1NC0wZTFkZGM1YjdiNzUgd2l0aCBleGVjdXRpb24gZmY1OTRjMjItMDY1Yy00ZmMxLTkwNzYtNTI5MWI4NmViMTkyCg==\"}\\n'\n",
      "b'{\"stdout\":\"cnVubmluZyB0b29sIFhwYW5kZXJNZXNzYWdpbmdTZXJ2aWNlU2VuZEVtYWlsV2l0aENvbnRlbnQgb24gYWdlbnQgZDMyYzZhMDMtNzc1YS00ZWRjLWE3NTQtMGUxZGRjNWI3Yjc1IHdpdGggZXhlY3V0aW9uIGY3NDllYzBjLWIxNTYtNDRjYy05ZTI3LTg2OGJhNjhjNTkxOQo=\"}\\n'\n",
      "b'{\"stdout\":\"cnVubmluZyB0b29sIHhwZmluaXNoLWFnZW50LWV4ZWN1dGlvbi1maW5pc2hlZCBvbiBhZ2VudCBkMzJjNmEwMy03NzVhLTRlZGMtYTc1NC0wZTFkZGM1YjdiNzUgd2l0aCBleGVjdXRpb24gZjc0OWVjMGMtYjE1Ni00NGNjLTllMjctODY4YmE2OGM1OTE5Cg==\"}\\n'\n"
     ]
    }
   ],
   "source": [
    "# Initialize the meeting agent\n",
    "meeting_agent = MeetingAgent(\n",
    "    nvidia_nim_api_key=nvidia_nim_api_key,\n",
    "    xpander_api_key=xpander_api_key,\n",
    "    agent_id=agent_id\n",
    ")\n",
    "\n",
    "meeting_agent.agent.instructions.general = f\"\"\"\n",
    "Reasoning mode: ON\n",
    "You are an expert in composing functions. You are given a question and a set of possible functions.\n",
    "Based on the question, you will need to make one or more function/tool calls to achieve the purpose.\n",
    "To list user's calendar, use CalendarEventManagementGetCalendarEventsById\n",
    "If none of the function can be used, point it out. If the given question lacks the parameters required by the function,\n",
    "also point it out. You should only return the function call in tools call sections.\n",
    "\n",
    "If you decide to invoke any of the function(s), you MUST put it in the format of <TOOLCALL>[func_name1{{'params_name1': 'params_value1', 'params_name2': 'params_value2'...}}]</TOOLCALL>\n",
    "\n",
    "You SHOULD NOT include any other text in the response.\n",
    "Here is a list of functions in JSON format that you can invoke. \n",
    "\n",
    "<AVAILABLE_TOOLS>{meeting_agent.agent.get_tools(llm_provider=LLMProvider.NVIDIA_NIM)}</AVAILABLE_TOOLS>\n",
    "\"\"\"\n",
    "\n",
    "meeting_agent.agent.instructions.role = \"\"\"\n",
    "You are a helpful meeting recorder AI agent with access to Google Calendar and Meeting Recording tools.\n",
    "\"\"\"\n",
    "\n",
    "meeting_agent.agent.instructions.goal = \"\"\"\n",
    "Your goal is to help users answer their query, record their meetings, check the status of the recording tools, and get the assets of the recorded meeting using the recording bot id. However, please don't check the status of recorder unless explicitly requested by the user.\n",
    "\"\"\""
   ]
  },
  {
   "cell_type": "markdown",
   "metadata": {},
   "source": [
    "<a id=\"Example-Use-Case-1:-Test-Agent's-Capabilities\"></a>\n",
    "### Example Use Case 1: Test Agent's Capabilities\n",
    "\n",
    "Once we have setup everything, let's test the agent capabilities by using the following prompt:"
   ]
  },
  {
   "cell_type": "code",
   "execution_count": 4,
   "metadata": {},
   "outputs": [
    {
     "name": "stdout",
     "output_type": "stream",
     "text": [
      "------------------------------------------------------------\n",
      "Starting a new conversation thread\n",
      "Processing Task: \n",
      "\n",
      "\n",
      "Hi! What can you do?\n",
      "\n",
      "\n",
      "\n",
      "------------------------------------------------------------\n",
      "Tool call function name :  xpfinish-agent-execution-finished\n",
      "HTTP Status code :  200\n",
      "Your thread ID is: 527a3ae8-6c47-40f1-9937-63ad7262aa33\n",
      "Status: ExecutionStatus.COMPLETED\n",
      "Result: I can help you with your Google Calendar events, record meetings, check the status of recording tools, and retrieve meeting assets using the recording bot ID. Please let me know how I can assist you today!\n",
      "Execution duration: 18.67 seconds\n"
     ]
    }
   ],
   "source": [
    "prompt = \"\"\"\n",
    "Hi! What can you do?\n",
    "\"\"\"\n",
    "\n",
    "result, thread_id = meeting_agent.run(prompt=prompt)"
   ]
  },
  {
   "cell_type": "markdown",
   "metadata": {},
   "source": [
    "After completing the task, xpander generates a thread ID for the agent's run. This thread ID is crucial for maintaining conversation history. It allows the agent to understand context and handle follow-up questions related to a previous query. We can simply include the same thread ID in subsequent prompts."
   ]
  },
  {
   "cell_type": "markdown",
   "metadata": {},
   "source": [
    "<a id=\"Example-Use-Case-2:-Retrieve-Upcoming-Calendar-Events\"></a>\n",
    "### Example Use Case 2: Retrieve Upcoming Calendar Events\n",
    "\n",
    "Since our agent now has access to Google Calendar, we can ask it to retrieve upcoming meetings from our schedule. To execute the agent with memory persistence, use the thread ID retrieved from the previous interaction and pass it as an argument along with your prompt."
   ]
  },
  {
   "cell_type": "code",
   "execution_count": 5,
   "metadata": {},
   "outputs": [
    {
     "name": "stdout",
     "output_type": "stream",
     "text": [
      "------------------------------------------------------------\n",
      "Continuing conversation in thread: 527a3ae8-6c47-40f1-9937-63ad7262aa33\n",
      "Processing Task: \n",
      "\n",
      "\n",
      "List my upcoming meetings on the 15th of May 2025 and 3 days afterwards.\n",
      "For each meeting, include the title, date, time, and participants.\n",
      "\n",
      "\n",
      "\n",
      "------------------------------------------------------------\n",
      "Tool call function name :  CalendarEventManagementGetCalendarEventsById\n",
      "HTTP Status code :  200\n",
      "Tool call function name :  xpfinish-agent-execution-finished\n",
      "HTTP Status code :  200\n",
      "Your thread ID is: 527a3ae8-6c47-40f1-9937-63ad7262aa33\n",
      "Status: ExecutionStatus.COMPLETED\n",
      "Result: Here are your upcoming meetings on May 15th, 2025 and the next 3 days:\n",
      "\n",
      "1. **Onboarding Employee**\n",
      "   - Date: May 15, 2025\n",
      "   - Time: 5:15 AM - 5:16 AM UTC\n",
      "   - Participants: christofbenbach@yahoo.com, marcellusruben@gmail.com\n",
      "\n",
      "Please note that the other events listed were cancelled.\n",
      "Execution duration: 16.55 seconds\n"
     ]
    },
    {
     "data": {
      "text/plain": [
       "('Here are your upcoming meetings on May 15th, 2025 and the next 3 days:\\n\\n1. **Onboarding Employee**\\n   - Date: May 15, 2025\\n   - Time: 5:15 AM - 5:16 AM UTC\\n   - Participants: christofbenbach@yahoo.com, marcellusruben@gmail.com\\n\\nPlease note that the other events listed were cancelled.',\n",
       " '527a3ae8-6c47-40f1-9937-63ad7262aa33')"
      ]
     },
     "execution_count": 5,
     "metadata": {},
     "output_type": "execute_result"
    }
   ],
   "source": [
    "# Use the same thread_id to maintain context from the authorization\n",
    "prompt = \"\"\"\n",
    "List my upcoming meetings on the 15th of May 2025 and 3 days afterwards.\n",
    "For each meeting, include the title, date, time, and participants.\n",
    "\"\"\"\n",
    "\n",
    "meeting_agent.run(prompt=prompt, thread_id=thread_id)"
   ]
  },
  {
   "cell_type": "markdown",
   "metadata": {},
   "source": [
    "As you can see, the agent called `CalendarEventManagementGetCalendarEventsById` to retrieve the ID of the relevant event from our Google Calendar. Once it had all the necessary information, it called `xpfinish-agent-execution-finished` to signal that it was ready to generate a response for the user."
   ]
  },
  {
   "cell_type": "markdown",
   "metadata": {},
   "source": [
    "<a id=\"Example-Use-Case-3:-Set-Up-Meeting-Recorder\"></a>\n",
    "### Example Use Case 3: Set Up Meeting Recorder\n",
    "\n",
    "We can also ask our agent to set up a recording bot for a particular meeting with prompt similar to this:"
   ]
  },
  {
   "cell_type": "code",
   "execution_count": 6,
   "metadata": {},
   "outputs": [
    {
     "name": "stdout",
     "output_type": "stream",
     "text": [
      "------------------------------------------------------------\n",
      "Continuing conversation in thread: 527a3ae8-6c47-40f1-9937-63ad7262aa33\n",
      "Processing Task: \n",
      "\n",
      "\n",
      "Can you create a recorder for the onboarding meeting? \n",
      "\n",
      "\n",
      "\n",
      "------------------------------------------------------------\n",
      "Tool call function name :  XpanderMeetingManagementCreateRecordingBot\n",
      "HTTP Status code :  200\n",
      "Tool call function name :  XpanderMeetingManagementCheckRecorderStatus\n",
      "HTTP Status code :  200\n",
      "Tool call function name :  xpfinish-agent-execution-finished\n",
      "HTTP Status code :  200\n",
      "Your thread ID is: 527a3ae8-6c47-40f1-9937-63ad7262aa33\n",
      "Status: ExecutionStatus.COMPLETED\n",
      "Result: The recorder bot for the onboarding meeting has been created with ID 764bb4f6-1fa1-4659-a7e2-1e8d4566c74a. However, the current status is unknown, and no assets are available yet. Please check the status again later.\n",
      "Execution duration: 27.54 seconds\n"
     ]
    },
    {
     "data": {
      "text/plain": [
       "('The recorder bot for the onboarding meeting has been created with ID 764bb4f6-1fa1-4659-a7e2-1e8d4566c74a. However, the current status is unknown, and no assets are available yet. Please check the status again later.',\n",
       " '527a3ae8-6c47-40f1-9937-63ad7262aa33')"
      ]
     },
     "execution_count": 6,
     "metadata": {},
     "output_type": "execute_result"
    }
   ],
   "source": [
    "# Create a meeting recorder for a specific meeting\n",
    "prompt = \"\"\"\n",
    "Can you create a recorder for the onboarding meeting? \n",
    "\"\"\"\n",
    "\n",
    "meeting_agent.run(prompt=prompt, thread_id=thread_id)"
   ]
  },
  {
   "cell_type": "markdown",
   "metadata": {},
   "source": [
    "The agent called the `XpanderMeetingManagementCreateRecordingBot` tool to create and set up a recorder for the appropriate meeting. It first fetched the meeting link, then used that link as input when initializing the recording bot. "
   ]
  },
  {
   "cell_type": "markdown",
   "metadata": {},
   "source": [
    "<a id=\"Example-Use-Case-4:-Check-the-Meeting-Recorder-Status\"></a>\n",
    "### Example Use Case 4: Check the Meeting Recorder Status\n",
    "\n",
    "This time, we’ll ask the agent for the status of the meeting recorder bot it created in the previous interaction. To do this, we’ll use the same thread ID from earlier runs to maintain the agent’s memory and context."
   ]
  },
  {
   "cell_type": "code",
   "execution_count": 7,
   "metadata": {},
   "outputs": [
    {
     "name": "stdout",
     "output_type": "stream",
     "text": [
      "------------------------------------------------------------\n",
      "Continuing conversation in thread: 527a3ae8-6c47-40f1-9937-63ad7262aa33\n",
      "Processing Task: \n",
      "\n",
      "\n",
      "Check the status of the meeting recorder I just created. Get me the link of the meeting assets if it has finished recording.\n",
      "\n",
      "\n",
      "\n",
      "------------------------------------------------------------\n",
      "Tool call function name :  XpanderMeetingManagementCheckRecorderStatus\n",
      "HTTP Status code :  200\n",
      "Tool call function name :  xpfinish-agent-execution-finished\n",
      "HTTP Status code :  200\n",
      "Your thread ID is: 527a3ae8-6c47-40f1-9937-63ad7262aa33\n",
      "Status: ExecutionStatus.COMPLETED\n",
      "Result: The meeting recording is done. Here are the assets:\n",
      "\n",
      "Video: https://links.xpander.ai/wzfnysq (mp4)\n",
      "Transcript: https://links.xpander.ai/j2jij9n (txt)\n",
      "Execution duration: 23.06 seconds\n"
     ]
    },
    {
     "data": {
      "text/plain": [
       "('The meeting recording is done. Here are the assets:\\n\\nVideo: https://links.xpander.ai/wzfnysq (mp4)\\nTranscript: https://links.xpander.ai/j2jij9n (txt)',\n",
       " '527a3ae8-6c47-40f1-9937-63ad7262aa33')"
      ]
     },
     "execution_count": 7,
     "metadata": {},
     "output_type": "execute_result"
    }
   ],
   "source": [
    "# Check the status of our meeting recorder\n",
    "prompt = \"\"\"\n",
    "Check the status of the meeting recorder I just created. Get me the link of the meeting assets if it has finished recording.\n",
    "\"\"\"\n",
    "\n",
    "meeting_agent.run(prompt=prompt, thread_id=thread_id)"
   ]
  },
  {
   "cell_type": "markdown",
   "metadata": {},
   "source": [
    "To complete the task, the agent called the `XpanderMeetingManagementCheckRecorderStatus` function to retrieve the current status of the recorder bot. Note that to use this function, the agent must provide the recorder bot ID, which it retrieved during the previous interaction.\n",
    "\n",
    "In the example above, since the recorder bot has finished recording the meeting, the recording assets, such as the video and transcript, are now available for download.\n",
    "\n"
   ]
  },
  {
   "cell_type": "markdown",
   "metadata": {},
   "source": [
    "<a id=\"Example-Use-Case-5:-Send-Recording-Assets-via-Email\"></a>\n",
    "### Example Use Case 5: Send Recording Assets via Email\n",
    "\n",
    "In the last interaction, the `XpanderMeetingManagementCheckRecorderStatus` tool returns meeting assets such as the meeting video and transcript after the recorder bot has finished recording. We can now ask the agent to give us a short summary of the meeting over email and attach the meeting assets (video and transcript) in the email."
   ]
  },
  {
   "cell_type": "code",
   "execution_count": 8,
   "metadata": {},
   "outputs": [
    {
     "name": "stdout",
     "output_type": "stream",
     "text": [
      "------------------------------------------------------------\n",
      "Continuing conversation in thread: 527a3ae8-6c47-40f1-9937-63ad7262aa33\n",
      "Processing Task: \n",
      "\n",
      "\n",
      "Please send the link of the meeting assets (video and transcript) to this email address: marcellusruben@gmail.com. \n",
      "Also, write a short key points of the meeting in the <email body> part of the following email template:\n",
      "\n",
      "Subject: Meeting Assets\n",
      "\n",
      "Dear <Recipient>,\n",
      "\n",
      "<email body>\n",
      "\n",
      "Here are the links to your assets:\n",
      "- Video: <video link>\n",
      "- Transcript: <transcript link> \n",
      "\n",
      "\n",
      "\n",
      "------------------------------------------------------------\n",
      "Tool call function name :  XpanderMessagingServiceSendEmailWithContent\n",
      "HTTP Status code :  200\n",
      "Tool call function name :  xpfinish-agent-execution-finished\n",
      "HTTP Status code :  200\n",
      "Your thread ID is: 527a3ae8-6c47-40f1-9937-63ad7262aa33\n",
      "Status: ExecutionStatus.COMPLETED\n",
      "Result: I have finished my job successfully. The email with the meeting assets and key points has been sent to marcellusruben@gmail.com.\n",
      "Execution duration: 18.94 seconds\n"
     ]
    },
    {
     "data": {
      "text/plain": [
       "('I have finished my job successfully. The email with the meeting assets and key points has been sent to marcellusruben@gmail.com.',\n",
       " '527a3ae8-6c47-40f1-9937-63ad7262aa33')"
      ]
     },
     "execution_count": 8,
     "metadata": {},
     "output_type": "execute_result"
    }
   ],
   "source": [
    "prompt = \"\"\"\n",
    "Please send the link of the meeting assets (video and transcript) to this email address: marcellusruben@gmail.com. \n",
    "Also, write a short key points of the meeting in the <email body> part of the following email template:\n",
    "\n",
    "Subject: Meeting Assets\n",
    "\n",
    "Dear <Recipient>,\n",
    "\n",
    "<email body>\n",
    "\n",
    "Here are the links to your assets:\n",
    "- Video: <video link>\n",
    "- Transcript: <transcript link> \n",
    "\"\"\"\n",
    "\n",
    "meeting_agent.run(prompt=prompt, thread_id=thread_id)"
   ]
  },
  {
   "cell_type": "markdown",
   "metadata": {},
   "source": [
    "As you can see, our agent called the `XpanderMessagingServiceSendEmailWithContent` function to complete the task. If you head over to the email that you specified in the prompt, you'll receive an email from the agent containing the link to the video recording as well as the transcript and the summary of the meeting.\n",
    "\n",
    "You can also inspect the workflow of your agent from xpander Workbench by clicking on the **Activity** view at the top of the graph visualization of your xpander console.\n",
    "\n",
    "![img_9](images/img_9.png)\n",
    "\n",
    "There you can inspect several information via two key components:\n",
    "\n",
    "- **Thread**: A thread is created every time you assign a task or input prompt to an agent. It includes information such as the total number of tokens generated and the creation timestamp.\n",
    "\n",
    "- **Log**: This contains a detailed breakdown of your agent's execution steps. You'll see the agent's responses, any tools it called, the payload used for those tool calls, and the responses received after each call.\n"
   ]
  },
  {
   "cell_type": "markdown",
   "metadata": {},
   "source": [
    "<a id=\"Summary:-Working-with-the-Meeting-Recorder-Agent\"></a>\n",
    "## Summary: Working with the Meeting Recorder Agent\n",
    "\n",
    "In this notebook, we've explored how to use the AI Meeting Recorder Agent for various meeting-related tasks:\n",
    "\n",
    "1. **Google Calendar Integration**:\n",
    "   - Authorization and authentication\n",
    "   - Retrieving upcoming meetings\n",
    "\n",
    "2. **Meeting Recording Capabilities**:\n",
    "   - Setting up recording bots for meetings\n",
    "   - Checking recording status\n",
    "   - Processing completed recordings\n",
    "\n",
    "3. **Email Notifications**:\n",
    "   - Sending meeting summaries via email\n",
    "   - Including action items and key points\n",
    "\n",
    "4. **Memory and Context Preservation**:\n",
    "   - Using thread IDs to maintain conversation context\n",
    "\n",
    "<a id=\"Next-Steps\"></a>\n",
    "## Next Steps\n",
    "\n",
    "In this blueprint, we've created a meeting recorder agent with the help of xpander.ai and NVIDIA NIM. You can now use this blueprint as a starting point to incorporate NVIDIA AI into xpander workflow, or apply it to different use cases that combine xpander and NVIDIA NIM.\n",
    "\n",
    "\n",
    "We can also further enhance the use of our Meeting Recorder Agent, as examples:\n",
    "\n",
    "1. Customize the agent with additional tools or capabilities\n",
    "2. Integrate with other calendar systems or communication platforms\n",
    "3. Develop more sophisticated workflows for specific meeting types\n",
    "4. Implement authentication for multiple users\n",
    "\n",
    "Visit the [Xpander documentation](https://docs.xpander.ai) for more information on extending your agent's capabilities."
   ]
  },
  {
   "cell_type": "markdown",
   "metadata": {},
   "source": []
  }
 ],
 "metadata": {
  "kernelspec": {
   "display_name": "development",
   "language": "python",
   "name": "python3"
  },
  "language_info": {
   "codemirror_mode": {
    "name": "ipython",
    "version": 3
   },
   "file_extension": ".py",
   "mimetype": "text/x-python",
   "name": "python",
   "nbconvert_exporter": "python",
   "pygments_lexer": "ipython3",
   "version": "3.9.19"
  }
 },
 "nbformat": 4,
 "nbformat_minor": 2
}
